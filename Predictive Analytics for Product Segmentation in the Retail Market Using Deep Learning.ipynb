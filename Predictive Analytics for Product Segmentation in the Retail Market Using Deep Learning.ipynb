{
 "cells": [
  {
   "cell_type": "markdown",
   "id": "813bfdb3",
   "metadata": {},
   "source": [
    "# Predictive Analytics for Product Segmentation in the Retail Market Using Deep Learning\n",
    "\n",
    "Segmentation is a method used to identify and meet the needs of specific customer groups with similar requirements within a market. Product segmentation allows companies to spread the risk of selling high-cost products across multiple target markets. Rather than relying on one product, one market, and a single supply-and-demand curve—essentially \"putting all the eggs in one basket\"—manufacturers can sell variations of the product at different prices to different market segments.\n",
    "\n",
    "This notebook presents an analysis of one year of data (from 2010/12/01 to 2011/12/09) from an online retail store (E-commerce database) using Deep Learning in Python with TensorFlow and Keras. The dataset, available at UCI Machine Learning Repository (https://archive.ics.uci.edu/ml/datasets/Online+Retail), is used to predict the category of products customers are likely to purchase based on various parameters."
   ]
  },
  {
   "cell_type": "code",
   "execution_count": 1,
   "id": "06c99be0",
   "metadata": {},
   "outputs": [],
   "source": [
    "# Lets start by importing libraries \n",
    "import pandas as pd\n",
    "import numpy as np\n",
    "import matplotlib.pyplot as plt\n",
    "import seaborn as sns\n",
    "import datetime, warnings\n",
    "warnings.filterwarnings(\"ignore\")\n",
    "from IPython.display import display, HTML\n",
    "from sklearn import preprocessing, model_selection, metrics, feature_selection\n",
    "%matplotlib inline"
   ]
  },
  {
   "cell_type": "code",
   "execution_count": 2,
   "id": "9c6239d3",
   "metadata": {},
   "outputs": [],
   "source": [
    "df_read = pd.read_excel('Online Retail.xlsx', dtype={'CustomerID': str,'InvoiceNo': str})"
   ]
  },
  {
   "cell_type": "markdown",
   "id": "e6e3e784",
   "metadata": {},
   "source": [
    "Save a copy"
   ]
  },
  {
   "cell_type": "code",
   "execution_count": 3,
   "id": "0ed44cc6",
   "metadata": {},
   "outputs": [
    {
     "name": "stdout",
     "output_type": "stream",
     "text": [
      "<class 'pandas.core.frame.DataFrame'>\n",
      "RangeIndex: 541909 entries, 0 to 541908\n",
      "Data columns (total 8 columns):\n",
      " #   Column       Non-Null Count   Dtype         \n",
      "---  ------       --------------   -----         \n",
      " 0   InvoiceNo    541909 non-null  object        \n",
      " 1   StockCode    541909 non-null  object        \n",
      " 2   Description  540455 non-null  object        \n",
      " 3   Quantity     541909 non-null  int64         \n",
      " 4   InvoiceDate  541909 non-null  datetime64[ns]\n",
      " 5   UnitPrice    541909 non-null  float64       \n",
      " 6   CustomerID   406829 non-null  object        \n",
      " 7   Country      541909 non-null  object        \n",
      "dtypes: datetime64[ns](1), float64(1), int64(1), object(5)\n",
      "memory usage: 33.1+ MB\n"
     ]
    }
   ],
   "source": [
    "df_initial= df_read\n",
    "df_initial.info()"
   ]
  },
  {
   "cell_type": "markdown",
   "id": "3091a2a4",
   "metadata": {},
   "source": [
    "We have a dataset with half a million entries, but to manage computational costs, we've selected a random subset of 1,00,000 entries to work with."
   ]
  },
  {
   "cell_type": "code",
   "execution_count": 4,
   "id": "be9936da",
   "metadata": {},
   "outputs": [],
   "source": [
    "np.random.seed(1)\n",
    "df_initial = df_initial.sample(frac=1).reset_index(drop=True)"
   ]
  },
  {
   "cell_type": "code",
   "execution_count": 5,
   "id": "7f5647dc",
   "metadata": {},
   "outputs": [],
   "source": [
    "df_initial= df_initial[:100000]"
   ]
  },
  {
   "cell_type": "markdown",
   "id": "31ca3c3c",
   "metadata": {},
   "source": [
    "Now lets print the null value indices"
   ]
  },
  {
   "cell_type": "code",
   "execution_count": 6,
   "id": "deed8753",
   "metadata": {},
   "outputs": [
    {
     "data": {
      "text/html": [
       "<div>\n",
       "<style scoped>\n",
       "    .dataframe tbody tr th:only-of-type {\n",
       "        vertical-align: middle;\n",
       "    }\n",
       "\n",
       "    .dataframe tbody tr th {\n",
       "        vertical-align: top;\n",
       "    }\n",
       "\n",
       "    .dataframe thead th {\n",
       "        text-align: right;\n",
       "    }\n",
       "</style>\n",
       "<table border=\"1\" class=\"dataframe\">\n",
       "  <thead>\n",
       "    <tr style=\"text-align: right;\">\n",
       "      <th></th>\n",
       "      <th>InvoiceNo</th>\n",
       "      <th>StockCode</th>\n",
       "      <th>Description</th>\n",
       "      <th>Quantity</th>\n",
       "      <th>InvoiceDate</th>\n",
       "      <th>UnitPrice</th>\n",
       "      <th>CustomerID</th>\n",
       "      <th>Country</th>\n",
       "    </tr>\n",
       "  </thead>\n",
       "  <tbody>\n",
       "    <tr>\n",
       "      <th>column dtype</th>\n",
       "      <td>object</td>\n",
       "      <td>object</td>\n",
       "      <td>object</td>\n",
       "      <td>int64</td>\n",
       "      <td>datetime64[ns]</td>\n",
       "      <td>float64</td>\n",
       "      <td>object</td>\n",
       "      <td>object</td>\n",
       "    </tr>\n",
       "    <tr>\n",
       "      <th>null values</th>\n",
       "      <td>0</td>\n",
       "      <td>0</td>\n",
       "      <td>265</td>\n",
       "      <td>0</td>\n",
       "      <td>0</td>\n",
       "      <td>0</td>\n",
       "      <td>24988</td>\n",
       "      <td>0</td>\n",
       "    </tr>\n",
       "    <tr>\n",
       "      <th>null values (%)</th>\n",
       "      <td>0.0</td>\n",
       "      <td>0.0</td>\n",
       "      <td>0.265</td>\n",
       "      <td>0.0</td>\n",
       "      <td>0.0</td>\n",
       "      <td>0.0</td>\n",
       "      <td>24.988</td>\n",
       "      <td>0.0</td>\n",
       "    </tr>\n",
       "  </tbody>\n",
       "</table>\n",
       "</div>"
      ],
      "text/plain": [
       "                InvoiceNo StockCode Description Quantity     InvoiceDate  \\\n",
       "column dtype       object    object      object    int64  datetime64[ns]   \n",
       "null values             0         0         265        0               0   \n",
       "null values (%)       0.0       0.0       0.265      0.0             0.0   \n",
       "\n",
       "                UnitPrice CustomerID Country  \n",
       "column dtype      float64     object  object  \n",
       "null values             0      24988       0  \n",
       "null values (%)       0.0     24.988     0.0  "
      ]
     },
     "metadata": {},
     "output_type": "display_data"
    }
   ],
   "source": [
    "# Info on columns types and numer of null values\n",
    "tab_info = pd.DataFrame(df_initial.dtypes).T.rename(index={0: 'column dtype'})\n",
    "tab_info = pd.concat([tab_info, pd.DataFrame(df_initial.isnull().sum()).T.rename(index={0: 'null values'})])\n",
    "tab_info = pd.concat([tab_info, pd.DataFrame(df_initial.isnull().sum() / df_initial.shape[0] * 100).T\n",
    "                      .rename(index={0: 'null values (%)'})])\n",
    "\n",
    "display(tab_info)"
   ]
  },
  {
   "cell_type": "markdown",
   "id": "feba15f4",
   "metadata": {},
   "source": [
    "Dropping null values"
   ]
  },
  {
   "cell_type": "code",
   "execution_count": 7,
   "id": "639a0933",
   "metadata": {},
   "outputs": [
    {
     "name": "stdout",
     "output_type": "stream",
     "text": [
      "<class 'pandas.core.frame.DataFrame'>\n",
      "Index: 75012 entries, 0 to 99999\n",
      "Data columns (total 8 columns):\n",
      " #   Column       Non-Null Count  Dtype         \n",
      "---  ------       --------------  -----         \n",
      " 0   InvoiceNo    75012 non-null  object        \n",
      " 1   StockCode    75012 non-null  object        \n",
      " 2   Description  75012 non-null  object        \n",
      " 3   Quantity     75012 non-null  int64         \n",
      " 4   InvoiceDate  75012 non-null  datetime64[ns]\n",
      " 5   UnitPrice    75012 non-null  float64       \n",
      " 6   CustomerID   75012 non-null  object        \n",
      " 7   Country      75012 non-null  object        \n",
      "dtypes: datetime64[ns](1), float64(1), int64(1), object(5)\n",
      "memory usage: 5.2+ MB\n"
     ]
    }
   ],
   "source": [
    "df_initial.dropna(axis = 0,inplace = True)\n",
    "df_initial.info()"
   ]
  },
  {
   "cell_type": "code",
   "execution_count": 8,
   "id": "dd69886c",
   "metadata": {},
   "outputs": [
    {
     "data": {
      "text/html": [
       "<div>\n",
       "<style scoped>\n",
       "    .dataframe tbody tr th:only-of-type {\n",
       "        vertical-align: middle;\n",
       "    }\n",
       "\n",
       "    .dataframe tbody tr th {\n",
       "        vertical-align: top;\n",
       "    }\n",
       "\n",
       "    .dataframe thead th {\n",
       "        text-align: right;\n",
       "    }\n",
       "</style>\n",
       "<table border=\"1\" class=\"dataframe\">\n",
       "  <thead>\n",
       "    <tr style=\"text-align: right;\">\n",
       "      <th></th>\n",
       "      <th>InvoiceNo</th>\n",
       "      <th>StockCode</th>\n",
       "      <th>Description</th>\n",
       "      <th>Quantity</th>\n",
       "      <th>InvoiceDate</th>\n",
       "      <th>UnitPrice</th>\n",
       "      <th>CustomerID</th>\n",
       "      <th>Country</th>\n",
       "    </tr>\n",
       "  </thead>\n",
       "  <tbody>\n",
       "    <tr>\n",
       "      <th>column dtype</th>\n",
       "      <td>object</td>\n",
       "      <td>object</td>\n",
       "      <td>object</td>\n",
       "      <td>int64</td>\n",
       "      <td>datetime64[ns]</td>\n",
       "      <td>float64</td>\n",
       "      <td>object</td>\n",
       "      <td>object</td>\n",
       "    </tr>\n",
       "    <tr>\n",
       "      <th>null values</th>\n",
       "      <td>0</td>\n",
       "      <td>0</td>\n",
       "      <td>0</td>\n",
       "      <td>0</td>\n",
       "      <td>0</td>\n",
       "      <td>0</td>\n",
       "      <td>0</td>\n",
       "      <td>0</td>\n",
       "    </tr>\n",
       "    <tr>\n",
       "      <th>null values (%)</th>\n",
       "      <td>0.0</td>\n",
       "      <td>0.0</td>\n",
       "      <td>0.0</td>\n",
       "      <td>0.0</td>\n",
       "      <td>0.0</td>\n",
       "      <td>0.0</td>\n",
       "      <td>0.0</td>\n",
       "      <td>0.0</td>\n",
       "    </tr>\n",
       "  </tbody>\n",
       "</table>\n",
       "</div>"
      ],
      "text/plain": [
       "                InvoiceNo StockCode Description Quantity     InvoiceDate  \\\n",
       "column dtype       object    object      object    int64  datetime64[ns]   \n",
       "null values             0         0           0        0               0   \n",
       "null values (%)       0.0       0.0         0.0      0.0             0.0   \n",
       "\n",
       "                UnitPrice CustomerID Country  \n",
       "column dtype      float64     object  object  \n",
       "null values             0          0       0  \n",
       "null values (%)       0.0        0.0     0.0  "
      ]
     },
     "metadata": {},
     "output_type": "display_data"
    }
   ],
   "source": [
    "tab_info = pd.DataFrame(df_initial.dtypes).T.rename(index={0: 'column dtype'})\n",
    "tab_info = pd.concat([tab_info, pd.DataFrame(df_initial.isnull().sum()).T.rename(index={0: 'null values'})])\n",
    "tab_info = pd.concat([tab_info, pd.DataFrame(df_initial.isnull().sum() / df_initial.shape[0] * 100).T\n",
    "                      .rename(index={0: 'null values (%)'})])\n",
    "\n",
    "display(tab_info)"
   ]
  },
  {
   "cell_type": "markdown",
   "id": "c759e957",
   "metadata": {},
   "source": [
    "Now, lets deal with duplicates"
   ]
  },
  {
   "cell_type": "code",
   "execution_count": 9,
   "id": "ec35236c",
   "metadata": {},
   "outputs": [
    {
     "name": "stdout",
     "output_type": "stream",
     "text": [
      "Duplicate entries: 206\n"
     ]
    }
   ],
   "source": [
    "print('Duplicate entries: {}'.format(df_initial.duplicated().sum()))\n",
    "df_initial.drop_duplicates(inplace = True)"
   ]
  },
  {
   "cell_type": "code",
   "execution_count": 10,
   "id": "11f9f42a",
   "metadata": {},
   "outputs": [
    {
     "name": "stdout",
     "output_type": "stream",
     "text": [
      "<class 'pandas.core.frame.DataFrame'>\n",
      "Index: 74806 entries, 0 to 99999\n",
      "Data columns (total 8 columns):\n",
      " #   Column       Non-Null Count  Dtype         \n",
      "---  ------       --------------  -----         \n",
      " 0   InvoiceNo    74806 non-null  object        \n",
      " 1   StockCode    74806 non-null  object        \n",
      " 2   Description  74806 non-null  object        \n",
      " 3   Quantity     74806 non-null  int64         \n",
      " 4   InvoiceDate  74806 non-null  datetime64[ns]\n",
      " 5   UnitPrice    74806 non-null  float64       \n",
      " 6   CustomerID   74806 non-null  object        \n",
      " 7   Country      74806 non-null  object        \n",
      "dtypes: datetime64[ns](1), float64(1), int64(1), object(5)\n",
      "memory usage: 5.1+ MB\n"
     ]
    }
   ],
   "source": [
    "df_initial.info()"
   ]
  },
  {
   "cell_type": "markdown",
   "id": "71bbd2b7",
   "metadata": {},
   "source": [
    "## Feature Analysis\n",
    "Let's dive into the feature analysis. This dataset consists of 8 key variables, described as follows:\n",
    "\n",
    "InvoiceNo: A nominal 6-digit number uniquely identifying each transaction. If the code starts with 'C', it signifies a cancellation.\n",
    "\n",
    "StockCode: A nominal 5-digit number representing a unique code for each product.\n",
    "\n",
    "Description: A nominal field containing the name of each product.\n",
    "\n",
    "Quantity: A numeric value indicating the number of items purchased per transaction.\n",
    "\n",
    "InvoiceDate: A numeric field capturing the date and time the transaction occurred.\n",
    "\n",
    "UnitPrice: A numeric field showing the price per unit of the product in sterling.\n",
    "\n",
    "CustomerID: A nominal 5-digit number uniquely identifying each customer.\n",
    "\n",
    "Country: A nominal field specifying the country where the customer resides."
   ]
  },
  {
   "cell_type": "markdown",
   "id": "4b303126",
   "metadata": {},
   "source": [
    "Countries\n",
    "Here, Lets quickly look at the countries from which orders were made:"
   ]
  },
  {
   "cell_type": "code",
   "execution_count": 11,
   "id": "ea0e189a",
   "metadata": {},
   "outputs": [
    {
     "name": "stdout",
     "output_type": "stream",
     "text": [
      "No. of countries in dataframe: 37\n"
     ]
    }
   ],
   "source": [
    "temp = df_initial.groupby(['Country'])\n",
    "countries = temp['Country'].value_counts()\n",
    "print('No. of countries in dataframe: {}'.format(len(countries)))"
   ]
  },
  {
   "cell_type": "code",
   "execution_count": 12,
   "id": "792573d5",
   "metadata": {},
   "outputs": [
    {
     "data": {
      "image/png": "[encoded data removed]",
      "text/plain": [
       "<Figure size 1000x1000 with 1 Axes>"
      ]
     },
     "metadata": {},
     "output_type": "display_data"
    }
   ],
   "source": [
    "# Plot Countries\n",
    "plt.style.use('ggplot')\n",
    "plt.figure(figsize= (10,10))\n",
    "plt.xlabel('Count')\n",
    "temp['Country'].value_counts().plot(kind = 'barh', grid = True)\n",
    "plt.show()"
   ]
  },
  {
   "cell_type": "markdown",
   "id": "cee23086",
   "metadata": {},
   "source": [
    "We see that the dataset is largely dominated by orders made from the UK. So lets create two categories UK and Non_UK"
   ]
  },
  {
   "cell_type": "code",
   "execution_count": 13,
   "id": "4268b180",
   "metadata": {},
   "outputs": [],
   "source": [
    "Country_n = []\n",
    "for item in df_initial['Country']:\n",
    "    if item == 'United Kingdom' :\n",
    "        Country_n.append('UK')\n",
    "    else:\n",
    "        Country_n.append('Non_UK')\n",
    "df_initial['Country_n'] = Country_n"
   ]
  },
  {
   "cell_type": "markdown",
   "id": "9f2afbac",
   "metadata": {},
   "source": [
    "Customers and orders\n",
    "\n"
   ]
  },
  {
   "cell_type": "code",
   "execution_count": 14,
   "id": "a595d075",
   "metadata": {},
   "outputs": [
    {
     "data": {
      "text/html": [
       "<div>\n",
       "<style scoped>\n",
       "    .dataframe tbody tr th:only-of-type {\n",
       "        vertical-align: middle;\n",
       "    }\n",
       "\n",
       "    .dataframe tbody tr th {\n",
       "        vertical-align: top;\n",
       "    }\n",
       "\n",
       "    .dataframe thead th {\n",
       "        text-align: right;\n",
       "    }\n",
       "</style>\n",
       "<table border=\"1\" class=\"dataframe\">\n",
       "  <thead>\n",
       "    <tr style=\"text-align: right;\">\n",
       "      <th></th>\n",
       "      <th>products</th>\n",
       "      <th>transactions</th>\n",
       "      <th>customers</th>\n",
       "    </tr>\n",
       "  </thead>\n",
       "  <tbody>\n",
       "    <tr>\n",
       "      <th>quantity</th>\n",
       "      <td>3266</td>\n",
       "      <td>16352</td>\n",
       "      <td>4078</td>\n",
       "    </tr>\n",
       "  </tbody>\n",
       "</table>\n",
       "</div>"
      ],
      "text/plain": [
       "          products  transactions  customers\n",
       "quantity      3266         16352       4078"
      ]
     },
     "execution_count": 14,
     "metadata": {},
     "output_type": "execute_result"
    }
   ],
   "source": [
    "pd.DataFrame([{'products': len(df_initial['StockCode'].value_counts()),    \n",
    "               'transactions': len(df_initial['InvoiceNo'].value_counts()),\n",
    "               'customers': len(df_initial['CustomerID'].value_counts()),  \n",
    "              }], columns = ['products', 'transactions', 'customers'], index = ['quantity'])"
   ]
  },
  {
   "cell_type": "markdown",
   "id": "08b40aec",
   "metadata": {},
   "source": [
    "It can be seen that the data concern 4078 users and that they bought 3266 different products. The total number of transactions carried out is of the order of ∼∼ 16352"
   ]
  },
  {
   "cell_type": "markdown",
   "id": "f1d20f53",
   "metadata": {},
   "source": [
    "Cancelling orders\n",
    "First of all, count the number of transactions corresponding to canceled orders, indicated by the letter C in InvoiceNo feature.This creates another variable OrderCancelled"
   ]
  },
  {
   "cell_type": "code",
   "execution_count": 15,
   "id": "42d8a932",
   "metadata": {},
   "outputs": [],
   "source": [
    "OrderCanceled = []\n",
    "for item in df_initial['InvoiceNo']:\n",
    "    if 'C' in str(item):\n",
    "        OrderCanceled.append(1)\n",
    "    else:\n",
    "        OrderCanceled.append(0)\n",
    "df_initial['OrderCancelled'] = OrderCanceled "
   ]
  },
  {
   "cell_type": "code",
   "execution_count": 16,
   "id": "1fffa87e",
   "metadata": {},
   "outputs": [
    {
     "data": {
      "text/plain": [
       "0.021950110953666817"
      ]
     },
     "execution_count": 16,
     "metadata": {},
     "output_type": "execute_result"
    }
   ],
   "source": [
    "(df_initial['OrderCancelled'] == 1).sum()/(df_initial['InvoiceNo'].shape[0])"
   ]
  },
  {
   "cell_type": "markdown",
   "id": "654dd2e0",
   "metadata": {},
   "source": [
    "The number of cancellations is rather small, around 2.2% of total transactions."
   ]
  },
  {
   "cell_type": "code",
   "execution_count": 17,
   "id": "448c7933",
   "metadata": {},
   "outputs": [
    {
     "data": {
      "image/png": "[encoded data removed]",
      "text/plain": [
       "<Figure size 800x600 with 1 Axes>"
      ]
     },
     "metadata": {},
     "output_type": "display_data"
    }
   ],
   "source": [
    "plt.figure(figsize= (8,6))\n",
    "plt.xlabel('Count')\n",
    "df_initial['OrderCancelled'].value_counts().plot(kind = 'bar', grid = True)\n",
    "plt.show()"
   ]
  },
  {
   "cell_type": "markdown",
   "id": "7e060419",
   "metadata": {},
   "source": [
    "InvoiceDate variable\n",
    "Lets extract another variable, Season_month fro the InvoiceDate variable"
   ]
  },
  {
   "cell_type": "code",
   "execution_count": 18,
   "id": "cc78de2c",
   "metadata": {},
   "outputs": [
    {
     "data": {
      "text/html": [
       "<div>\n",
       "<style scoped>\n",
       "    .dataframe tbody tr th:only-of-type {\n",
       "        vertical-align: middle;\n",
       "    }\n",
       "\n",
       "    .dataframe tbody tr th {\n",
       "        vertical-align: top;\n",
       "    }\n",
       "\n",
       "    .dataframe thead th {\n",
       "        text-align: right;\n",
       "    }\n",
       "</style>\n",
       "<table border=\"1\" class=\"dataframe\">\n",
       "  <thead>\n",
       "    <tr style=\"text-align: right;\">\n",
       "      <th></th>\n",
       "      <th>InvoiceNo</th>\n",
       "      <th>StockCode</th>\n",
       "      <th>Description</th>\n",
       "      <th>Quantity</th>\n",
       "      <th>InvoiceDate</th>\n",
       "      <th>UnitPrice</th>\n",
       "      <th>CustomerID</th>\n",
       "      <th>Country</th>\n",
       "      <th>Country_n</th>\n",
       "      <th>OrderCancelled</th>\n",
       "      <th>Season_month</th>\n",
       "    </tr>\n",
       "  </thead>\n",
       "  <tbody>\n",
       "    <tr>\n",
       "      <th>0</th>\n",
       "      <td>C544414</td>\n",
       "      <td>22960</td>\n",
       "      <td>JAM MAKING SET WITH JARS</td>\n",
       "      <td>-2</td>\n",
       "      <td>2011-02-18 14:54:00</td>\n",
       "      <td>3.75</td>\n",
       "      <td>13408</td>\n",
       "      <td>United Kingdom</td>\n",
       "      <td>UK</td>\n",
       "      <td>1</td>\n",
       "      <td>2</td>\n",
       "    </tr>\n",
       "    <tr>\n",
       "      <th>2</th>\n",
       "      <td>575656</td>\n",
       "      <td>22952</td>\n",
       "      <td>60 CAKE CASES VINTAGE CHRISTMAS</td>\n",
       "      <td>48</td>\n",
       "      <td>2011-11-10 14:29:00</td>\n",
       "      <td>0.55</td>\n",
       "      <td>13319</td>\n",
       "      <td>United Kingdom</td>\n",
       "      <td>UK</td>\n",
       "      <td>0</td>\n",
       "      <td>11</td>\n",
       "    </tr>\n",
       "    <tr>\n",
       "      <th>3</th>\n",
       "      <td>571636</td>\n",
       "      <td>20674</td>\n",
       "      <td>GREEN POLKADOT BOWL</td>\n",
       "      <td>16</td>\n",
       "      <td>2011-10-18 11:41:00</td>\n",
       "      <td>1.25</td>\n",
       "      <td>13509</td>\n",
       "      <td>United Kingdom</td>\n",
       "      <td>UK</td>\n",
       "      <td>0</td>\n",
       "      <td>10</td>\n",
       "    </tr>\n",
       "    <tr>\n",
       "      <th>4</th>\n",
       "      <td>576657</td>\n",
       "      <td>22556</td>\n",
       "      <td>PLASTERS IN TIN CIRCUS PARADE</td>\n",
       "      <td>12</td>\n",
       "      <td>2011-11-16 11:03:00</td>\n",
       "      <td>1.65</td>\n",
       "      <td>12720</td>\n",
       "      <td>Germany</td>\n",
       "      <td>Non_UK</td>\n",
       "      <td>0</td>\n",
       "      <td>11</td>\n",
       "    </tr>\n",
       "    <tr>\n",
       "      <th>5</th>\n",
       "      <td>569823</td>\n",
       "      <td>23298</td>\n",
       "      <td>SPOTTY BUNTING</td>\n",
       "      <td>1</td>\n",
       "      <td>2011-10-06 12:15:00</td>\n",
       "      <td>4.95</td>\n",
       "      <td>16895</td>\n",
       "      <td>United Kingdom</td>\n",
       "      <td>UK</td>\n",
       "      <td>0</td>\n",
       "      <td>10</td>\n",
       "    </tr>\n",
       "  </tbody>\n",
       "</table>\n",
       "</div>"
      ],
      "text/plain": [
       "  InvoiceNo StockCode                      Description  Quantity  \\\n",
       "0   C544414     22960         JAM MAKING SET WITH JARS        -2   \n",
       "2    575656     22952  60 CAKE CASES VINTAGE CHRISTMAS        48   \n",
       "3    571636     20674              GREEN POLKADOT BOWL        16   \n",
       "4    576657     22556   PLASTERS IN TIN CIRCUS PARADE         12   \n",
       "5    569823     23298                   SPOTTY BUNTING         1   \n",
       "\n",
       "          InvoiceDate  UnitPrice CustomerID         Country Country_n  \\\n",
       "0 2011-02-18 14:54:00       3.75      13408  United Kingdom        UK   \n",
       "2 2011-11-10 14:29:00       0.55      13319  United Kingdom        UK   \n",
       "3 2011-10-18 11:41:00       1.25      13509  United Kingdom        UK   \n",
       "4 2011-11-16 11:03:00       1.65      12720         Germany    Non_UK   \n",
       "5 2011-10-06 12:15:00       4.95      16895  United Kingdom        UK   \n",
       "\n",
       "   OrderCancelled  Season_month  \n",
       "0               1             2  \n",
       "2               0            11  \n",
       "3               0            10  \n",
       "4               0            11  \n",
       "5               0            10  "
      ]
     },
     "execution_count": 18,
     "metadata": {},
     "output_type": "execute_result"
    }
   ],
   "source": [
    "df_initial['Season_month'] = df_initial['InvoiceDate'].map(lambda x: x.month)\n",
    "df_initial.head()"
   ]
  },
  {
   "cell_type": "code",
   "execution_count": 19,
   "id": "ed069adf",
   "metadata": {},
   "outputs": [
    {
     "data": {
      "image/png": "[encoded data removed]",
      "text/plain": [
       "<Figure size 1200x600 with 1 Axes>"
      ]
     },
     "metadata": {},
     "output_type": "display_data"
    }
   ],
   "source": [
    "plt.figure(figsize= (12,6))\n",
    "plt.xlabel('Count')\n",
    "df_initial['Season_month'].value_counts().plot(kind = 'barh', grid = True)\n",
    "plt.show()"
   ]
  },
  {
   "cell_type": "markdown",
   "id": "4921d1d1",
   "metadata": {},
   "source": [
    "Lets create 4 Quarter categories and put them in the variable Quarter_y"
   ]
  },
  {
   "cell_type": "code",
   "execution_count": 20,
   "id": "b12433c8",
   "metadata": {},
   "outputs": [],
   "source": [
    "Quarter = []\n",
    "for item in df_initial['Season_month']:\n",
    "    if item < 4 :\n",
    "        Quarter.append('Q1')\n",
    "    elif item < 7:\n",
    "        Quarter.append('Q2')\n",
    "    elif item < 10:\n",
    "        Quarter.append('Q3')\n",
    "    else:\n",
    "        Quarter.append('Q4')"
   ]
  },
  {
   "cell_type": "code",
   "execution_count": 21,
   "id": "4d869cd9",
   "metadata": {},
   "outputs": [],
   "source": [
    "df_initial['Quarter_y'] = Quarter\n"
   ]
  },
  {
   "cell_type": "markdown",
   "id": "c99229d8",
   "metadata": {},
   "source": [
    "Creating Product Category variable\n",
    "Lets use the StockCode variable to create four product categories, counting the volume of sales."
   ]
  },
  {
   "cell_type": "code",
   "execution_count": 22,
   "id": "148f1de8",
   "metadata": {},
   "outputs": [],
   "source": [
    "Counts = df_initial['StockCode'].value_counts().to_dict()\n"
   ]
  },
  {
   "cell_type": "code",
   "execution_count": 23,
   "id": "7cb9020a",
   "metadata": {},
   "outputs": [],
   "source": [
    "Categ1 = [];Categ2 = [];Categ3 = [];Categ4 = []\n",
    "for key,value in Counts.items():\n",
    "    if value < 25:\n",
    "        Categ4.append(str(key))\n",
    "    elif value <= 50:\n",
    "        Categ3.append(str(key))\n",
    "    elif value <= 200:\n",
    "        Categ2.append(str(key))\n",
    "    else :\n",
    "        Categ1.append(str(key))"
   ]
  },
  {
   "cell_type": "code",
   "execution_count": 24,
   "id": "fb410a09",
   "metadata": {},
   "outputs": [],
   "source": [
    "Product_Categ = []\n",
    "for item in df_initial['StockCode']: \n",
    "    if item in Categ1:\n",
    "        Product_Categ.append(0)\n",
    "    elif item in Categ2:\n",
    "        Product_Categ.append(1)\n",
    "    elif item in Categ3:\n",
    "        Product_Categ.append(2)\n",
    "    else:\n",
    "        Product_Categ.append(3)"
   ]
  },
  {
   "cell_type": "code",
   "execution_count": 25,
   "id": "16547f4b",
   "metadata": {},
   "outputs": [
    {
     "data": {
      "text/plain": [
       "74806"
      ]
     },
     "execution_count": 25,
     "metadata": {},
     "output_type": "execute_result"
    }
   ],
   "source": [
    "len(Product_Categ)\n"
   ]
  },
  {
   "cell_type": "code",
   "execution_count": 26,
   "id": "20588855",
   "metadata": {},
   "outputs": [],
   "source": [
    "# adding the variable to the DataFrame.\n",
    "df_initial['Prod_Categ'] = Product_Categ"
   ]
  },
  {
   "cell_type": "code",
   "execution_count": 27,
   "id": "1427d284",
   "metadata": {},
   "outputs": [
    {
     "data": {
      "text/html": [
       "<div>\n",
       "<style scoped>\n",
       "    .dataframe tbody tr th:only-of-type {\n",
       "        vertical-align: middle;\n",
       "    }\n",
       "\n",
       "    .dataframe tbody tr th {\n",
       "        vertical-align: top;\n",
       "    }\n",
       "\n",
       "    .dataframe thead th {\n",
       "        text-align: right;\n",
       "    }\n",
       "</style>\n",
       "<table border=\"1\" class=\"dataframe\">\n",
       "  <thead>\n",
       "    <tr style=\"text-align: right;\">\n",
       "      <th></th>\n",
       "      <th>InvoiceNo</th>\n",
       "      <th>StockCode</th>\n",
       "      <th>Description</th>\n",
       "      <th>Quantity</th>\n",
       "      <th>InvoiceDate</th>\n",
       "      <th>UnitPrice</th>\n",
       "      <th>CustomerID</th>\n",
       "      <th>Country</th>\n",
       "      <th>Country_n</th>\n",
       "      <th>OrderCancelled</th>\n",
       "      <th>Season_month</th>\n",
       "      <th>Quarter_y</th>\n",
       "      <th>Prod_Categ</th>\n",
       "    </tr>\n",
       "  </thead>\n",
       "  <tbody>\n",
       "    <tr>\n",
       "      <th>0</th>\n",
       "      <td>C544414</td>\n",
       "      <td>22960</td>\n",
       "      <td>JAM MAKING SET WITH JARS</td>\n",
       "      <td>-2</td>\n",
       "      <td>2011-02-18 14:54:00</td>\n",
       "      <td>3.75</td>\n",
       "      <td>13408</td>\n",
       "      <td>United Kingdom</td>\n",
       "      <td>UK</td>\n",
       "      <td>1</td>\n",
       "      <td>2</td>\n",
       "      <td>Q1</td>\n",
       "      <td>3</td>\n",
       "    </tr>\n",
       "    <tr>\n",
       "      <th>2</th>\n",
       "      <td>575656</td>\n",
       "      <td>22952</td>\n",
       "      <td>60 CAKE CASES VINTAGE CHRISTMAS</td>\n",
       "      <td>48</td>\n",
       "      <td>2011-11-10 14:29:00</td>\n",
       "      <td>0.55</td>\n",
       "      <td>13319</td>\n",
       "      <td>United Kingdom</td>\n",
       "      <td>UK</td>\n",
       "      <td>0</td>\n",
       "      <td>11</td>\n",
       "      <td>Q4</td>\n",
       "      <td>3</td>\n",
       "    </tr>\n",
       "    <tr>\n",
       "      <th>3</th>\n",
       "      <td>571636</td>\n",
       "      <td>20674</td>\n",
       "      <td>GREEN POLKADOT BOWL</td>\n",
       "      <td>16</td>\n",
       "      <td>2011-10-18 11:41:00</td>\n",
       "      <td>1.25</td>\n",
       "      <td>13509</td>\n",
       "      <td>United Kingdom</td>\n",
       "      <td>UK</td>\n",
       "      <td>0</td>\n",
       "      <td>10</td>\n",
       "      <td>Q4</td>\n",
       "      <td>3</td>\n",
       "    </tr>\n",
       "    <tr>\n",
       "      <th>4</th>\n",
       "      <td>576657</td>\n",
       "      <td>22556</td>\n",
       "      <td>PLASTERS IN TIN CIRCUS PARADE</td>\n",
       "      <td>12</td>\n",
       "      <td>2011-11-16 11:03:00</td>\n",
       "      <td>1.65</td>\n",
       "      <td>12720</td>\n",
       "      <td>Germany</td>\n",
       "      <td>Non_UK</td>\n",
       "      <td>0</td>\n",
       "      <td>11</td>\n",
       "      <td>Q4</td>\n",
       "      <td>3</td>\n",
       "    </tr>\n",
       "    <tr>\n",
       "      <th>5</th>\n",
       "      <td>569823</td>\n",
       "      <td>23298</td>\n",
       "      <td>SPOTTY BUNTING</td>\n",
       "      <td>1</td>\n",
       "      <td>2011-10-06 12:15:00</td>\n",
       "      <td>4.95</td>\n",
       "      <td>16895</td>\n",
       "      <td>United Kingdom</td>\n",
       "      <td>UK</td>\n",
       "      <td>0</td>\n",
       "      <td>10</td>\n",
       "      <td>Q4</td>\n",
       "      <td>3</td>\n",
       "    </tr>\n",
       "  </tbody>\n",
       "</table>\n",
       "</div>"
      ],
      "text/plain": [
       "  InvoiceNo StockCode                      Description  Quantity  \\\n",
       "0   C544414     22960         JAM MAKING SET WITH JARS        -2   \n",
       "2    575656     22952  60 CAKE CASES VINTAGE CHRISTMAS        48   \n",
       "3    571636     20674              GREEN POLKADOT BOWL        16   \n",
       "4    576657     22556   PLASTERS IN TIN CIRCUS PARADE         12   \n",
       "5    569823     23298                   SPOTTY BUNTING         1   \n",
       "\n",
       "          InvoiceDate  UnitPrice CustomerID         Country Country_n  \\\n",
       "0 2011-02-18 14:54:00       3.75      13408  United Kingdom        UK   \n",
       "2 2011-11-10 14:29:00       0.55      13319  United Kingdom        UK   \n",
       "3 2011-10-18 11:41:00       1.25      13509  United Kingdom        UK   \n",
       "4 2011-11-16 11:03:00       1.65      12720         Germany    Non_UK   \n",
       "5 2011-10-06 12:15:00       4.95      16895  United Kingdom        UK   \n",
       "\n",
       "   OrderCancelled  Season_month Quarter_y  Prod_Categ  \n",
       "0               1             2        Q1           3  \n",
       "2               0            11        Q4           3  \n",
       "3               0            10        Q4           3  \n",
       "4               0            11        Q4           3  \n",
       "5               0            10        Q4           3  "
      ]
     },
     "execution_count": 27,
     "metadata": {},
     "output_type": "execute_result"
    }
   ],
   "source": [
    "df_initial.head()"
   ]
  },
  {
   "cell_type": "markdown",
   "id": "f08299d8",
   "metadata": {},
   "source": [
    "Numerical variables\n",
    "We have two numerical variables, Quantity and UnitPrice"
   ]
  },
  {
   "cell_type": "code",
   "execution_count": 28,
   "id": "1f551220",
   "metadata": {},
   "outputs": [
    {
     "data": {
      "text/plain": [
       "(-5000.0, 5000.0)"
      ]
     },
     "execution_count": 28,
     "metadata": {},
     "output_type": "execute_result"
    },
    {
     "data": {
      "image/png": "[encoded data removed]",
      "text/plain": [
       "<Figure size 640x480 with 1 Axes>"
      ]
     },
     "metadata": {},
     "output_type": "display_data"
    }
   ],
   "source": [
    "sns.distplot(df_initial[\"Quantity\"])\n",
    "plt.xlim(-5000,5000)"
   ]
  },
  {
   "cell_type": "code",
   "execution_count": 29,
   "id": "e5047e29",
   "metadata": {},
   "outputs": [
    {
     "data": {
      "text/plain": [
       "(0.0, 500.0)"
      ]
     },
     "execution_count": 29,
     "metadata": {},
     "output_type": "execute_result"
    },
    {
     "data": {
      "image/png": "[encoded data removed]",
      "text/plain": [
       "<Figure size 640x480 with 1 Axes>"
      ]
     },
     "metadata": {},
     "output_type": "display_data"
    }
   ],
   "source": [
    "sns.distplot(df_initial[\"UnitPrice\"])\n",
    "plt.xlim(0,500)"
   ]
  },
  {
   "cell_type": "code",
   "execution_count": 30,
   "id": "a41903a8",
   "metadata": {},
   "outputs": [
    {
     "name": "stdout",
     "output_type": "stream",
     "text": [
      "<class 'pandas.core.frame.DataFrame'>\n",
      "Index: 74806 entries, 0 to 99999\n",
      "Data columns (total 13 columns):\n",
      " #   Column          Non-Null Count  Dtype         \n",
      "---  ------          --------------  -----         \n",
      " 0   InvoiceNo       74806 non-null  object        \n",
      " 1   StockCode       74806 non-null  object        \n",
      " 2   Description     74806 non-null  object        \n",
      " 3   Quantity        74806 non-null  int64         \n",
      " 4   InvoiceDate     74806 non-null  datetime64[ns]\n",
      " 5   UnitPrice       74806 non-null  float64       \n",
      " 6   CustomerID      74806 non-null  object        \n",
      " 7   Country         74806 non-null  object        \n",
      " 8   Country_n       74806 non-null  object        \n",
      " 9   OrderCancelled  74806 non-null  int64         \n",
      " 10  Season_month    74806 non-null  int64         \n",
      " 11  Quarter_y       74806 non-null  object        \n",
      " 12  Prod_Categ      74806 non-null  int64         \n",
      "dtypes: datetime64[ns](1), float64(1), int64(4), object(7)\n",
      "memory usage: 8.0+ MB\n"
     ]
    }
   ],
   "source": [
    "df_initial.info()\n"
   ]
  },
  {
   "cell_type": "markdown",
   "id": "a20df9f9",
   "metadata": {},
   "source": [
    "The data is ready, we can now create x and y variables"
   ]
  },
  {
   "cell_type": "code",
   "execution_count": 31,
   "id": "0661884e",
   "metadata": {},
   "outputs": [],
   "source": [
    "X = df_initial.drop(['InvoiceNo','StockCode','Description','InvoiceDate','CustomerID','Country','Season_month','Prod_Categ'], axis = 1)\n",
    "y = df_initial['Prod_Categ']"
   ]
  },
  {
   "cell_type": "code",
   "execution_count": 32,
   "id": "f0d85bbf",
   "metadata": {},
   "outputs": [
    {
     "data": {
      "image/png": "[encoded data removed]",
      "text/plain": [
       "<Figure size 1000x600 with 1 Axes>"
      ]
     },
     "metadata": {},
     "output_type": "display_data"
    }
   ],
   "source": [
    "plt.figure(figsize= (10,6))\n",
    "plt.xlabel('Count')\n",
    "y.value_counts().plot(kind = 'bar', grid = True)\n",
    "plt.show()"
   ]
  },
  {
   "cell_type": "markdown",
   "id": "9a55ef16",
   "metadata": {},
   "source": [
    "Due to the high skewness of the output variable, normalization might be beneficial in the training process."
   ]
  },
  {
   "cell_type": "markdown",
   "id": "ec5614d4",
   "metadata": {},
   "source": [
    "Encoding categorical variables"
   ]
  },
  {
   "cell_type": "code",
   "execution_count": 33,
   "id": "5708a106",
   "metadata": {},
   "outputs": [],
   "source": [
    "categorical = ['OrderCancelled','Quarter_y', 'Country_n']\n",
    "categorical_variables = categorical\n",
    "X = pd.get_dummies(X, columns = categorical_variables)"
   ]
  },
  {
   "cell_type": "code",
   "execution_count": 34,
   "id": "00ac1dd3",
   "metadata": {},
   "outputs": [],
   "source": [
    "#label encoder\n",
    "from sklearn.preprocessing import LabelEncoder\n",
    "labelencoder = LabelEncoder()\n",
    "y = labelencoder.fit_transform(y)"
   ]
  },
  {
   "cell_type": "markdown",
   "id": "3643da89",
   "metadata": {},
   "source": [
    "Feature scaling"
   ]
  },
  {
   "cell_type": "code",
   "execution_count": 35,
   "id": "c4438d5c",
   "metadata": {},
   "outputs": [],
   "source": [
    "# Feature Scaling\n",
    "from sklearn.preprocessing import StandardScaler\n",
    "sc = StandardScaler()\n",
    "X = sc.fit_transform(X)"
   ]
  },
  {
   "cell_type": "markdown",
   "id": "05346d9c",
   "metadata": {},
   "source": [
    "creating train and test sets"
   ]
  },
  {
   "cell_type": "code",
   "execution_count": 36,
   "id": "fa783065",
   "metadata": {},
   "outputs": [],
   "source": [
    "# Splitting the dataset into the Training set and Test set\n",
    "from sklearn.model_selection import train_test_split\n",
    "X_train, X_test, y_train, y_test = train_test_split(X, y, test_size = 0.2, random_state = 0)\n"
   ]
  },
  {
   "cell_type": "markdown",
   "id": "b4afffd4",
   "metadata": {},
   "source": [
    "## Deep Learning\n",
    "Import TensorFlow and Keras"
   ]
  },
  {
   "cell_type": "code",
   "execution_count": 37,
   "id": "5e254946",
   "metadata": {
    "scrolled": true
   },
   "outputs": [],
   "source": [
    "import tensorflow as tf\n",
    "from tensorflow.keras.utils import to_categorical\n",
    "from sklearn.preprocessing import LabelEncoder"
   ]
  },
  {
   "cell_type": "code",
   "execution_count": 38,
   "id": "4decab2f",
   "metadata": {},
   "outputs": [],
   "source": [
    "# Set logging level for TensorFlow 2.x\n",
    "tf.get_logger().setLevel('INFO')"
   ]
  },
  {
   "cell_type": "code",
   "execution_count": 39,
   "id": "9d55809b",
   "metadata": {},
   "outputs": [],
   "source": [
    "# Function to encode labels for neural network\n",
    "def encode_neural_net_y(y):\n",
    "    encoder = LabelEncoder()\n",
    "    encoder.fit(y)\n",
    "    encoded_y = encoder.transform(y)\n",
    "    new_y = to_categorical(encoded_y)  # Use `to_categorical` from tensorflow.keras.utils\n",
    "    return new_y"
   ]
  },
  {
   "cell_type": "code",
   "execution_count": 40,
   "id": "891ac1b1",
   "metadata": {},
   "outputs": [],
   "source": [
    "# Encoding y_train and y_test\n",
    "y_train = encode_neural_net_y(y_train)\n",
    "y_test = encode_neural_net_y(y_test)"
   ]
  },
  {
   "cell_type": "code",
   "execution_count": 41,
   "id": "1cd4e2df",
   "metadata": {},
   "outputs": [
    {
     "name": "stdout",
     "output_type": "stream",
     "text": [
      "Shape of X_train:  (59844, 10)\n",
      "Shape of y_train:  (59844, 4)\n",
      "Shape of X_test:  (14962, 10)\n",
      "Shape of y_test:  (14962, 4)\n"
     ]
    }
   ],
   "source": [
    "print(\"Shape of X_train: \", X_train.shape)\n",
    "print(\"Shape of y_train: \", y_train.shape)\n",
    "print(\"Shape of X_test: \", X_test.shape)\n",
    "print(\"Shape of y_test: \", y_test.shape)"
   ]
  },
  {
   "cell_type": "code",
   "execution_count": 42,
   "id": "d346e60a",
   "metadata": {},
   "outputs": [],
   "source": [
    "from keras.models import Sequential\n",
    "from keras.layers import Dense\n",
    "from keras.layers import BatchNormalization\n",
    "\n",
    "# create model\n",
    "model = Sequential()\n",
    "model.add(Dense(35, input_dim=10, activation='relu'))\n",
    "model.add(BatchNormalization())\n",
    "model.add(Dense(4, activation='softmax'))\n",
    "# Compile model\n",
    "model.compile(loss='categorical_crossentropy', optimizer='adam', metrics=['acc'])"
   ]
  },
  {
   "cell_type": "markdown",
   "id": "ffabf825",
   "metadata": {},
   "source": [
    "The layers are constructed using keras.layers. A 2-layer fully connected neural network is built, with 35 neurons in the hidden layer.\n",
    "\n",
    "A batch normalization layer is added between the hidden and output layers to address potential skewness in the data.\n",
    "\n",
    "The loss function used is categorical_crossentropy, and the optimizer chosen is ADAM. The activation function for the input layers is ReLU, while the output layer uses softmax."
   ]
  },
  {
   "cell_type": "code",
   "execution_count": 43,
   "id": "b2aa7507",
   "metadata": {},
   "outputs": [
    {
     "data": {
      "text/html": [
       "<pre style=\"white-space:pre;overflow-x:auto;line-height:normal;font-family:Menlo,'DejaVu Sans Mono',consolas,'Courier New',monospace\"><span style=\"font-weight: bold\">Model: \"sequential\"</span>\n",
       "</pre>\n"
      ],
      "text/plain": [
       "\u001b[1mModel: \"sequential\"\u001b[0m\n"
      ]
     },
     "metadata": {},
     "output_type": "display_data"
    },
    {
     "data": {
      "text/html": [
       "<pre style=\"white-space:pre;overflow-x:auto;line-height:normal;font-family:Menlo,'DejaVu Sans Mono',consolas,'Courier New',monospace\">┏━━━━━━━━━━━━━━━━━━━━━━━━━━━━━━━━━┳━━━━━━━━━━━━━━━━━━━━━━━━┳━━━━━━━━━━━━━━━┓\n",
       "┃<span style=\"font-weight: bold\"> Layer (type)                    </span>┃<span style=\"font-weight: bold\"> Output Shape           </span>┃<span style=\"font-weight: bold\">       Param # </span>┃\n",
       "┡━━━━━━━━━━━━━━━━━━━━━━━━━━━━━━━━━╇━━━━━━━━━━━━━━━━━━━━━━━━╇━━━━━━━━━━━━━━━┩\n",
       "│ dense (<span style=\"color: #0087ff; text-decoration-color: #0087ff\">Dense</span>)                   │ (<span style=\"color: #00d7ff; text-decoration-color: #00d7ff\">None</span>, <span style=\"color: #00af00; text-decoration-color: #00af00\">35</span>)             │           <span style=\"color: #00af00; text-decoration-color: #00af00\">385</span> │\n",
       "├─────────────────────────────────┼────────────────────────┼───────────────┤\n",
       "│ batch_normalization             │ (<span style=\"color: #00d7ff; text-decoration-color: #00d7ff\">None</span>, <span style=\"color: #00af00; text-decoration-color: #00af00\">35</span>)             │           <span style=\"color: #00af00; text-decoration-color: #00af00\">140</span> │\n",
       "│ (<span style=\"color: #0087ff; text-decoration-color: #0087ff\">BatchNormalization</span>)            │                        │               │\n",
       "├─────────────────────────────────┼────────────────────────┼───────────────┤\n",
       "│ dense_1 (<span style=\"color: #0087ff; text-decoration-color: #0087ff\">Dense</span>)                 │ (<span style=\"color: #00d7ff; text-decoration-color: #00d7ff\">None</span>, <span style=\"color: #00af00; text-decoration-color: #00af00\">4</span>)              │           <span style=\"color: #00af00; text-decoration-color: #00af00\">144</span> │\n",
       "└─────────────────────────────────┴────────────────────────┴───────────────┘\n",
       "</pre>\n"
      ],
      "text/plain": [
       "┏━━━━━━━━━━━━━━━━━━━━━━━━━━━━━━━━━┳━━━━━━━━━━━━━━━━━━━━━━━━┳━━━━━━━━━━━━━━━┓\n",
       "┃\u001b[1m \u001b[0m\u001b[1mLayer (type)                   \u001b[0m\u001b[1m \u001b[0m┃\u001b[1m \u001b[0m\u001b[1mOutput Shape          \u001b[0m\u001b[1m \u001b[0m┃\u001b[1m \u001b[0m\u001b[1m      Param #\u001b[0m\u001b[1m \u001b[0m┃\n",
       "┡━━━━━━━━━━━━━━━━━━━━━━━━━━━━━━━━━╇━━━━━━━━━━━━━━━━━━━━━━━━╇━━━━━━━━━━━━━━━┩\n",
       "│ dense (\u001b[38;5;33mDense\u001b[0m)                   │ (\u001b[38;5;45mNone\u001b[0m, \u001b[38;5;34m35\u001b[0m)             │           \u001b[38;5;34m385\u001b[0m │\n",
       "├─────────────────────────────────┼────────────────────────┼───────────────┤\n",
       "│ batch_normalization             │ (\u001b[38;5;45mNone\u001b[0m, \u001b[38;5;34m35\u001b[0m)             │           \u001b[38;5;34m140\u001b[0m │\n",
       "│ (\u001b[38;5;33mBatchNormalization\u001b[0m)            │                        │               │\n",
       "├─────────────────────────────────┼────────────────────────┼───────────────┤\n",
       "│ dense_1 (\u001b[38;5;33mDense\u001b[0m)                 │ (\u001b[38;5;45mNone\u001b[0m, \u001b[38;5;34m4\u001b[0m)              │           \u001b[38;5;34m144\u001b[0m │\n",
       "└─────────────────────────────────┴────────────────────────┴───────────────┘\n"
      ]
     },
     "metadata": {},
     "output_type": "display_data"
    },
    {
     "data": {
      "text/html": [
       "<pre style=\"white-space:pre;overflow-x:auto;line-height:normal;font-family:Menlo,'DejaVu Sans Mono',consolas,'Courier New',monospace\"><span style=\"font-weight: bold\"> Total params: </span><span style=\"color: #00af00; text-decoration-color: #00af00\">669</span> (2.61 KB)\n",
       "</pre>\n"
      ],
      "text/plain": [
       "\u001b[1m Total params: \u001b[0m\u001b[38;5;34m669\u001b[0m (2.61 KB)\n"
      ]
     },
     "metadata": {},
     "output_type": "display_data"
    },
    {
     "data": {
      "text/html": [
       "<pre style=\"white-space:pre;overflow-x:auto;line-height:normal;font-family:Menlo,'DejaVu Sans Mono',consolas,'Courier New',monospace\"><span style=\"font-weight: bold\"> Trainable params: </span><span style=\"color: #00af00; text-decoration-color: #00af00\">599</span> (2.34 KB)\n",
       "</pre>\n"
      ],
      "text/plain": [
       "\u001b[1m Trainable params: \u001b[0m\u001b[38;5;34m599\u001b[0m (2.34 KB)\n"
      ]
     },
     "metadata": {},
     "output_type": "display_data"
    },
    {
     "data": {
      "text/html": [
       "<pre style=\"white-space:pre;overflow-x:auto;line-height:normal;font-family:Menlo,'DejaVu Sans Mono',consolas,'Courier New',monospace\"><span style=\"font-weight: bold\"> Non-trainable params: </span><span style=\"color: #00af00; text-decoration-color: #00af00\">70</span> (280.00 B)\n",
       "</pre>\n"
      ],
      "text/plain": [
       "\u001b[1m Non-trainable params: \u001b[0m\u001b[38;5;34m70\u001b[0m (280.00 B)\n"
      ]
     },
     "metadata": {},
     "output_type": "display_data"
    }
   ],
   "source": [
    "model.summary()"
   ]
  },
  {
   "cell_type": "markdown",
   "id": "dcc628c8",
   "metadata": {},
   "source": [
    "Training the model to predict the Product Categories from the transaction data"
   ]
  },
  {
   "cell_type": "code",
   "execution_count": 44,
   "id": "f4453db1",
   "metadata": {},
   "outputs": [
    {
     "name": "stdout",
     "output_type": "stream",
     "text": [
      "Epoch 1/30\n",
      "\u001b[1m1497/1497\u001b[0m \u001b[32m━━━━━━━━━━━━━━━━━━━━\u001b[0m\u001b[37m\u001b[0m \u001b[1m1s\u001b[0m 356us/step - acc: 0.8730 - loss: 0.5779\n",
      "Epoch 2/30\n",
      "\u001b[1m1497/1497\u001b[0m \u001b[32m━━━━━━━━━━━━━━━━━━━━\u001b[0m\u001b[37m\u001b[0m \u001b[1m1s\u001b[0m 349us/step - acc: 0.9529 - loss: 0.2345\n",
      "Epoch 3/30\n",
      "\u001b[1m1497/1497\u001b[0m \u001b[32m━━━━━━━━━━━━━━━━━━━━\u001b[0m\u001b[37m\u001b[0m \u001b[1m1s\u001b[0m 351us/step - acc: 0.9545 - loss: 0.2277\n",
      "Epoch 4/30\n",
      "\u001b[1m1497/1497\u001b[0m \u001b[32m━━━━━━━━━━━━━━━━━━━━\u001b[0m\u001b[37m\u001b[0m \u001b[1m1s\u001b[0m 362us/step - acc: 0.9542 - loss: 0.2291\n",
      "Epoch 5/30\n",
      "\u001b[1m1497/1497\u001b[0m \u001b[32m━━━━━━━━━━━━━━━━━━━━\u001b[0m\u001b[37m\u001b[0m \u001b[1m1s\u001b[0m 363us/step - acc: 0.9530 - loss: 0.2315\n",
      "Epoch 6/30\n",
      "\u001b[1m1497/1497\u001b[0m \u001b[32m━━━━━━━━━━━━━━━━━━━━\u001b[0m\u001b[37m\u001b[0m \u001b[1m1s\u001b[0m 347us/step - acc: 0.9545 - loss: 0.2272\n",
      "Epoch 7/30\n",
      "\u001b[1m1497/1497\u001b[0m \u001b[32m━━━━━━━━━━━━━━━━━━━━\u001b[0m\u001b[37m\u001b[0m \u001b[1m1s\u001b[0m 347us/step - acc: 0.9535 - loss: 0.2287\n",
      "Epoch 8/30\n",
      "\u001b[1m1497/1497\u001b[0m \u001b[32m━━━━━━━━━━━━━━━━━━━━\u001b[0m\u001b[37m\u001b[0m \u001b[1m1s\u001b[0m 349us/step - acc: 0.9512 - loss: 0.2361\n",
      "Epoch 9/30\n",
      "\u001b[1m1497/1497\u001b[0m \u001b[32m━━━━━━━━━━━━━━━━━━━━\u001b[0m\u001b[37m\u001b[0m \u001b[1m1s\u001b[0m 348us/step - acc: 0.9530 - loss: 0.2318\n",
      "Epoch 10/30\n",
      "\u001b[1m1497/1497\u001b[0m \u001b[32m━━━━━━━━━━━━━━━━━━━━\u001b[0m\u001b[37m\u001b[0m \u001b[1m1s\u001b[0m 367us/step - acc: 0.9539 - loss: 0.2259\n",
      "Epoch 11/30\n",
      "\u001b[1m1497/1497\u001b[0m \u001b[32m━━━━━━━━━━━━━━━━━━━━\u001b[0m\u001b[37m\u001b[0m \u001b[1m1s\u001b[0m 372us/step - acc: 0.9533 - loss: 0.2299\n",
      "Epoch 12/30\n",
      "\u001b[1m1497/1497\u001b[0m \u001b[32m━━━━━━━━━━━━━━━━━━━━\u001b[0m\u001b[37m\u001b[0m \u001b[1m1s\u001b[0m 349us/step - acc: 0.9533 - loss: 0.2275\n",
      "Epoch 13/30\n",
      "\u001b[1m1497/1497\u001b[0m \u001b[32m━━━━━━━━━━━━━━━━━━━━\u001b[0m\u001b[37m\u001b[0m \u001b[1m1s\u001b[0m 371us/step - acc: 0.9547 - loss: 0.2189\n",
      "Epoch 14/30\n",
      "\u001b[1m1497/1497\u001b[0m \u001b[32m━━━━━━━━━━━━━━━━━━━━\u001b[0m\u001b[37m\u001b[0m \u001b[1m1s\u001b[0m 350us/step - acc: 0.9536 - loss: 0.2217\n",
      "Epoch 15/30\n",
      "\u001b[1m1497/1497\u001b[0m \u001b[32m━━━━━━━━━━━━━━━━━━━━\u001b[0m\u001b[37m\u001b[0m \u001b[1m1s\u001b[0m 349us/step - acc: 0.9538 - loss: 0.2196\n",
      "Epoch 16/30\n",
      "\u001b[1m1497/1497\u001b[0m \u001b[32m━━━━━━━━━━━━━━━━━━━━\u001b[0m\u001b[37m\u001b[0m \u001b[1m1s\u001b[0m 349us/step - acc: 0.9533 - loss: 0.2227\n",
      "Epoch 17/30\n",
      "\u001b[1m1497/1497\u001b[0m \u001b[32m━━━━━━━━━━━━━━━━━━━━\u001b[0m\u001b[37m\u001b[0m \u001b[1m1s\u001b[0m 351us/step - acc: 0.9535 - loss: 0.2193\n",
      "Epoch 18/30\n",
      "\u001b[1m1497/1497\u001b[0m \u001b[32m━━━━━━━━━━━━━━━━━━━━\u001b[0m\u001b[37m\u001b[0m \u001b[1m1s\u001b[0m 369us/step - acc: 0.9536 - loss: 0.2204\n",
      "Epoch 19/30\n",
      "\u001b[1m1497/1497\u001b[0m \u001b[32m━━━━━━━━━━━━━━━━━━━━\u001b[0m\u001b[37m\u001b[0m \u001b[1m1s\u001b[0m 351us/step - acc: 0.9528 - loss: 0.2237\n",
      "Epoch 20/30\n",
      "\u001b[1m1497/1497\u001b[0m \u001b[32m━━━━━━━━━━━━━━━━━━━━\u001b[0m\u001b[37m\u001b[0m \u001b[1m1s\u001b[0m 351us/step - acc: 0.9532 - loss: 0.2221\n",
      "Epoch 21/30\n",
      "\u001b[1m1497/1497\u001b[0m \u001b[32m━━━━━━━━━━━━━━━━━━━━\u001b[0m\u001b[37m\u001b[0m \u001b[1m1s\u001b[0m 350us/step - acc: 0.9545 - loss: 0.2181\n",
      "Epoch 22/30\n",
      "\u001b[1m1497/1497\u001b[0m \u001b[32m━━━━━━━━━━━━━━━━━━━━\u001b[0m\u001b[37m\u001b[0m \u001b[1m1s\u001b[0m 350us/step - acc: 0.9539 - loss: 0.2182\n",
      "Epoch 23/30\n",
      "\u001b[1m1497/1497\u001b[0m \u001b[32m━━━━━━━━━━━━━━━━━━━━\u001b[0m\u001b[37m\u001b[0m \u001b[1m1s\u001b[0m 367us/step - acc: 0.9531 - loss: 0.2217\n",
      "Epoch 24/30\n",
      "\u001b[1m1497/1497\u001b[0m \u001b[32m━━━━━━━━━━━━━━━━━━━━\u001b[0m\u001b[37m\u001b[0m \u001b[1m1s\u001b[0m 347us/step - acc: 0.9542 - loss: 0.2155\n",
      "Epoch 25/30\n",
      "\u001b[1m1497/1497\u001b[0m \u001b[32m━━━━━━━━━━━━━━━━━━━━\u001b[0m\u001b[37m\u001b[0m \u001b[1m1s\u001b[0m 350us/step - acc: 0.9532 - loss: 0.2193\n",
      "Epoch 26/30\n",
      "\u001b[1m1497/1497\u001b[0m \u001b[32m━━━━━━━━━━━━━━━━━━━━\u001b[0m\u001b[37m\u001b[0m \u001b[1m1s\u001b[0m 349us/step - acc: 0.9543 - loss: 0.2156\n",
      "Epoch 27/30\n",
      "\u001b[1m1497/1497\u001b[0m \u001b[32m━━━━━━━━━━━━━━━━━━━━\u001b[0m\u001b[37m\u001b[0m \u001b[1m1s\u001b[0m 368us/step - acc: 0.9536 - loss: 0.2178\n",
      "Epoch 28/30\n",
      "\u001b[1m1497/1497\u001b[0m \u001b[32m━━━━━━━━━━━━━━━━━━━━\u001b[0m\u001b[37m\u001b[0m \u001b[1m1s\u001b[0m 350us/step - acc: 0.9532 - loss: 0.2188\n",
      "Epoch 29/30\n",
      "\u001b[1m1497/1497\u001b[0m \u001b[32m━━━━━━━━━━━━━━━━━━━━\u001b[0m\u001b[37m\u001b[0m \u001b[1m1s\u001b[0m 351us/step - acc: 0.9547 - loss: 0.2136\n",
      "Epoch 30/30\n",
      "\u001b[1m1497/1497\u001b[0m \u001b[32m━━━━━━━━━━━━━━━━━━━━\u001b[0m\u001b[37m\u001b[0m \u001b[1m1s\u001b[0m 350us/step - acc: 0.9548 - loss: 0.2124\n"
     ]
    }
   ],
   "source": [
    "history = model.fit(np.array(X_train), np.array(y_train), epochs=30, batch_size=40, verbose=1)\n"
   ]
  },
  {
   "cell_type": "code",
   "execution_count": 45,
   "id": "386cbfdc",
   "metadata": {},
   "outputs": [
    {
     "name": "stdout",
     "output_type": "stream",
     "text": [
      "     TEST SCORE:    \n",
      "compile_metrics: 95.29%\n"
     ]
    }
   ],
   "source": [
    "scores = model.evaluate(np.array(X_test), np.array(y_test), verbose=0)\n",
    "print(\"     TEST SCORE:    \")\n",
    "print(\"%s: %.2f%%\" % (model.metrics_names[1], scores[1]*100))"
   ]
  },
  {
   "cell_type": "code",
   "execution_count": 46,
   "id": "ae0b499e",
   "metadata": {},
   "outputs": [
    {
     "name": "stdout",
     "output_type": "stream",
     "text": [
      "     TRAIN SCORE:    \n",
      "compile_metrics: 95.38%\n"
     ]
    }
   ],
   "source": [
    "scores = model.evaluate(np.array(X_train), np.array(y_train), verbose=0)\n",
    "print(\"     TRAIN SCORE:    \")\n",
    "print(\"%s: %.2f%%\" % (model.metrics_names[1], scores[1]*100))"
   ]
  },
  {
   "cell_type": "markdown",
   "id": "d65e0f9e",
   "metadata": {},
   "source": [
    "# Concluding Remarks\n",
    "The model performs well on both the training and test sets. Feature analysis was conducted, and new features were engineered to improve predictions.\n",
    "\n",
    "Although the test set accuracy is slightly lower than the training set by a negligible margin, the impact of regularization still requires further investigation.\n",
    "\n",
    "An additional approach to feature engineering could involve extracting product information from the Description variable using Natural Language Processing (NLP) tools such as NLTK."
   ]
  },
  {
   "cell_type": "code",
   "execution_count": null,
   "id": "7f3751bd",
   "metadata": {},
   "outputs": [],
   "source": []
  }
 ],
 "metadata": {
  "kernelspec": {
   "display_name": "Python 3 (ipykernel)",
   "language": "python",
   "name": "python3"
  },
  "language_info": {
   "codemirror_mode": {
    "name": "ipython",
    "version": 3
   },
   "file_extension": ".py",
   "mimetype": "text/x-python",
   "name": "python",
   "nbconvert_exporter": "python",
   "pygments_lexer": "ipython3",
   "version": "3.11.5"
  }
 },
 "nbformat": 4,
 "nbformat_minor": 5
}
